{
 "cells": [
  {
   "cell_type": "code",
   "execution_count": 1,
   "metadata": {},
   "outputs": [],
   "source": [
    "import numpy as np"
   ]
  },
  {
   "cell_type": "markdown",
   "metadata": {},
   "source": [
    "### Given an incompressible fluid flowing through a short section of horizontal pipe, write a function to calculate the outlet pressure if the inlet pressure, inlet velocity, and outlet velocity are known."
   ]
  },
  {
   "cell_type": "markdown",
   "metadata": {},
   "source": [
    "\\begin{align}\n",
    "\\ P_(inlet) + \\frac{p  (v_(in))^2}{2}  & = P_(outlet) + \\frac{p  (v_(out))^2}{2}\n",
    "\\end{align}"
   ]
  },
  {
   "cell_type": "code",
   "execution_count": 2,
   "metadata": {},
   "outputs": [],
   "source": [
    "def get_pressure(inlet_P, inlet_vel, outlet_vel):\n",
    "    #Assuming the fluid is water which has a density of 1000 Kg/m3\n",
    "    return inlet_P + 500*((inlet_vel**2)-(outlet_vel**2))"
   ]
  },
  {
   "cell_type": "markdown",
   "metadata": {},
   "source": [
    "### Write a function to calculate the pressure drop in a pipe given the flow velocity, density, viscosity, and pipe diameter, and pipe length, assuming the Reynold’s number is less than 2300."
   ]
  },
  {
   "cell_type": "markdown",
   "metadata": {},
   "source": [
    "\\begin{align}\n",
    "\\ p  & =  \\frac{32 u L v}{\\pi d^2}\n",
    "\\end{align}"
   ]
  },
  {
   "cell_type": "code",
   "execution_count": 3,
   "metadata": {},
   "outputs": [],
   "source": [
    "def pressure_drop(velocity, density, viscosity, diameter, length):\n",
    "    return 32*viscosity*length*velocity/ (np.pi * (diameter**2))\n",
    "    "
   ]
  },
  {
   "cell_type": "markdown",
   "metadata": {},
   "source": [
    "### Given the differential equation\n",
    "### f'(x) = x^x,\n",
    "### write a function that uses Euler's method to approximate the value of f(x1) given an initial condition (x0, f(x0)) and the value of x1. "
   ]
  },
  {
   "cell_type": "code",
   "execution_count": 4,
   "metadata": {},
   "outputs": [
    {
     "data": {
      "text/plain": [
       "0.784432337437171"
      ]
     },
     "execution_count": 4,
     "metadata": {},
     "output_type": "execute_result"
    }
   ],
   "source": [
    "\n",
    "def d_eq(x):\n",
    "    return x**x\n",
    "\n",
    "def solve_eq(x_in, x_end, y_in, n_steps = 1000):\n",
    "    x_vals = np.linspace(x_in, x_end, n_steps)\n",
    "    d_x = (x_end - x_in)/(n_steps - 1.0)\n",
    "    d_y = [d_eq(x)*d_x for x in x_vals] #since the function is not y dependent\n",
    "    return y_in + sum(d_y)\n",
    "\n",
    "solve_eq(0, 1, 0) #If you want to from 0 to 1 and y_in is 0"
   ]
  },
  {
   "cell_type": "markdown",
   "metadata": {},
   "source": [
    "#### Given a string representing a Roman numeral, write a function to compute the Arabic numerical equivalent. For example `roman_to_arabic(\"MDCCLXXVI\")` should return `1776`. "
   ]
  },
  {
   "cell_type": "code",
   "execution_count": 5,
   "metadata": {},
   "outputs": [
    {
     "data": {
      "text/plain": [
       "1776"
      ]
     },
     "execution_count": 5,
     "metadata": {},
     "output_type": "execute_result"
    }
   ],
   "source": [
    "def roman_to_arabic(rom_num):\n",
    "    rom_dic = {'I':1, 'V':5, 'X':10, 'L':50, 'C':100, 'D':500, 'M':1000}\n",
    "    num = 0\n",
    "    for s in rom_num:\n",
    "        num += rom_dic[s]\n",
    "    return num\n",
    "\n",
    "roman_to_arabic(\"MDCCLXXVI\")"
   ]
  },
  {
   "cell_type": "markdown",
   "metadata": {},
   "source": [
    "####  Write a generic function to compute various scenarios for the following optimization problem: A farmer owns X acres of land. She profits P1 dollars per acre of corn and P2 dollars per acre of oats. Her team has Y hours of labor available. The corn takes H1\n",
    "#### hours of labor per acre and oats require H2 hours of labor per acre. How many acres of each can be planted to maximize profits?\n",
    "#### Test\n",
    "#### the function for the following cases:\n",
    "#### a)\n",
    "#### X = 240, Y = 320, P1 = $40, P2 = $30, H1 = 2, H2 = 1\n",
    "#### b)\n",
    "#### X = 300, Y = 380, P1 = $70, P2 = $45, H1 = 3, H2 = 1\n",
    "#### c)\n",
    "####  X = 180, Y = 420, P1 = $65, P2 = $55, H1 = 3, H2 = 2 "
   ]
  },
  {
   "cell_type": "code",
   "execution_count": 6,
   "metadata": {},
   "outputs": [],
   "source": [
    "def acres(X, Y, P1, P2, H1, H2):\n",
    "    C = np.array([[P1/H1], [P2/H2]]) #Set up equation\n",
    "    intersection = ((Y - X*H1)*(Y - X*H2)) < 0  #see if there is a linear interception\n",
    "    m = np.array([[0, min(Y, X*H2)], [min(Y, X*H1), 0]]) #set up matrix with extreme values\n",
    "    if intersection:\n",
    "        d = np.array([[1.0, 1.0], [1.0/H1, 1.0/H2]])\n",
    "        r = np.matmul(np.linalg.inv(d), np.array([[Y], [X]])) #intersection coordinates\n",
    "        m = np.append(r, m).reshape(-1, 2) #append to matrix\n",
    "    res = np.matmul(m, C) #check the value of the 3 extreme values\n",
    "    return np.append(m[np.argmax(res)] * d[1], max(res)) #return the values that give the largest profit\n",
    "    "
   ]
  },
  {
   "cell_type": "code",
   "execution_count": 7,
   "metadata": {},
   "outputs": [
    {
     "data": {
      "text/plain": [
       "array([  80.,  160., 8000.])"
      ]
     },
     "execution_count": 7,
     "metadata": {},
     "output_type": "execute_result"
    }
   ],
   "source": [
    "X = 240\n",
    "Y = 320\n",
    "P1 = 40\n",
    "P2= 30\n",
    "H1 = 2\n",
    "H2 = 1\n",
    "acres(X, Y, P1, P2, H1, H2) #80 of corn and 160 of oats, 8000$ profit"
   ]
  },
  {
   "cell_type": "code",
   "execution_count": 8,
   "metadata": {},
   "outputs": [
    {
     "data": {
      "text/plain": [
       "array([   40.,   260., 14460.])"
      ]
     },
     "execution_count": 8,
     "metadata": {},
     "output_type": "execute_result"
    }
   ],
   "source": [
    "X = 300\n",
    "Y = 380\n",
    "P1 = 70\n",
    "P2= 45\n",
    "H1 = 3\n",
    "H2 = 1\n",
    "acres(X, Y, P1, P2, H1, H2) #40 of corn and 260 of oats, 14460$ profit"
   ]
  },
  {
   "cell_type": "code",
   "execution_count": 9,
   "metadata": {},
   "outputs": [
    {
     "data": {
      "text/plain": [
       "array([   60.,   120., 10260.])"
      ]
     },
     "execution_count": 9,
     "metadata": {},
     "output_type": "execute_result"
    }
   ],
   "source": [
    "X = 180\n",
    "Y = 420\n",
    "P1 = 65\n",
    "P2= 55\n",
    "H1 = 3\n",
    "H2 = 2\n",
    "acres(X, Y, P1, P2, H1, H2) #60 of corn and 120 of oats, 10260$ profit"
   ]
  },
  {
   "cell_type": "code",
   "execution_count": null,
   "metadata": {},
   "outputs": [],
   "source": []
  }
 ],
 "metadata": {
  "kernelspec": {
   "display_name": "Python 2",
   "language": "python",
   "name": "python2"
  },
  "language_info": {
   "codemirror_mode": {
    "name": "ipython",
    "version": 2
   },
   "file_extension": ".py",
   "mimetype": "text/x-python",
   "name": "python",
   "nbconvert_exporter": "python",
   "pygments_lexer": "ipython2",
   "version": "2.7.10"
  }
 },
 "nbformat": 4,
 "nbformat_minor": 2
}
